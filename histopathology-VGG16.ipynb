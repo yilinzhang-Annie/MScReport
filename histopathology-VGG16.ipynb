{
 "cells": [
  {
   "cell_type": "code",
   "execution_count": 1,
   "id": "9cd7b57a",
   "metadata": {},
   "outputs": [],
   "source": [
    "import pandas as pd\n",
    "import numpy as np\n",
    "import os\n",
    "from glob import glob\n",
    "import random\n",
    "import matplotlib.pylab as plt\n",
    "import keras.backend as K\n",
    "from sklearn.model_selection import train_test_split\n",
    "import tensorflow as tf\n",
    "import keras\n",
    "from tensorflow.keras.utils import to_categorical\n",
    "from keras.models import Sequential\n",
    "from tensorflow.keras.optimizers import SGD, RMSprop, Adam, Adagrad, Adadelta\n",
    "from keras.layers import Dense, Dropout, Activation, Flatten, BatchNormalization, Conv2D, MaxPool2D, MaxPooling2D\n",
    "from tensorflow.keras.callbacks import ReduceLROnPlateau, ModelCheckpoint, EarlyStopping\n",
    "from tensorflow.keras.applications import VGG16\n",
    "from tensorflow.keras.applications.vgg16 import VGG16\n",
    "%matplotlib inline\n",
    "from tensorflow.keras import Model\n",
    "from tensorflow.keras.layers import Dense, GlobalAveragePooling2D\n",
    "\n",
    "# to ignore displaying warnings\n",
    "import warnings\n",
    "warnings.filterwarnings(\"ignore\")\n"
   ]
  },
  {
   "cell_type": "code",
   "execution_count": 2,
   "id": "c03de846",
   "metadata": {},
   "outputs": [
    {
     "name": "stdout",
     "output_type": "stream",
     "text": [
      "IDC_regular_ps50_idx5\\10253\\0\\10253_idx5_x1001_y1001_class0.png\n",
      "IDC_regular_ps50_idx5\\10253\\0\\10253_idx5_x1001_y1051_class0.png\n",
      "IDC_regular_ps50_idx5\\10253\\0\\10253_idx5_x1001_y1101_class0.png\n",
      "IDC_regular_ps50_idx5\\10253\\0\\10253_idx5_x1001_y1151_class0.png\n",
      "IDC_regular_ps50_idx5\\10253\\0\\10253_idx5_x1001_y1201_class0.png\n",
      "IDC_regular_ps50_idx5\\10253\\0\\10253_idx5_x1001_y1251_class0.png\n",
      "IDC_regular_ps50_idx5\\10253\\0\\10253_idx5_x1001_y1301_class0.png\n",
      "IDC_regular_ps50_idx5\\10253\\0\\10253_idx5_x1001_y1351_class0.png\n",
      "IDC_regular_ps50_idx5\\10253\\0\\10253_idx5_x1001_y1501_class0.png\n",
      "IDC_regular_ps50_idx5\\10253\\0\\10253_idx5_x1001_y1551_class0.png\n"
     ]
    }
   ],
   "source": [
    "imagePatches = glob('IDC_regular_ps50_idx5/**/*.png', recursive=True)\n",
    "for filename in imagePatches[0:10]:\n",
    "    print(filename)"
   ]
  },
  {
   "cell_type": "code",
   "execution_count": 3,
   "id": "db72ee6c",
   "metadata": {},
   "outputs": [],
   "source": [
    "# Two arrays holding images by class type\n",
    "\n",
    "class0_no = [] # 0 = no cancer\n",
    "class1_cancer = [] # 1 = cancer\n",
    "\n",
    "for filename in imagePatches:\n",
    "    if filename.endswith(\"class0.png\"):\n",
    "         class0_no.append(filename)\n",
    "    else:\n",
    "        class1_cancer.append(filename)"
   ]
  },
  {
   "cell_type": "code",
   "execution_count": 4,
   "id": "804993d3",
   "metadata": {},
   "outputs": [
    {
     "name": "stdout",
     "output_type": "stream",
     "text": [
      "78785\n",
      "198737\n"
     ]
    }
   ],
   "source": [
    "print(len(class1_cancer))\n",
    "print(len(class0_no))"
   ]
  },
  {
   "cell_type": "code",
   "execution_count": 5,
   "id": "7c283762",
   "metadata": {},
   "outputs": [],
   "source": [
    "img_size = 50"
   ]
  },
  {
   "cell_type": "code",
   "execution_count": 6,
   "id": "0a310464",
   "metadata": {},
   "outputs": [],
   "source": [
    "from matplotlib.image import imread\n",
    "import cv2\n",
    "\n",
    "def get_image_arrays(data, label):\n",
    "    img_arrays = []\n",
    "    for i in data:\n",
    "        if i.endswith('.png'):\n",
    "            img = cv2.imread(i ,cv2.IMREAD_COLOR)\n",
    "            img_sized = cv2.resize(img, (img_size,img_size), interpolation=cv2.INTER_LINEAR)\n",
    "            img_arrays.append([img_sized, label])\n",
    "    return img_arrays"
   ]
  },
  {
   "cell_type": "code",
   "execution_count": 7,
   "id": "4be53e06",
   "metadata": {},
   "outputs": [],
   "source": [
    "class0_array = get_image_arrays(class0_no, 0)\n",
    "class1_array = get_image_arrays(class1_cancer, 1)"
   ]
  },
  {
   "cell_type": "code",
   "execution_count": 8,
   "id": "98912ca5",
   "metadata": {},
   "outputs": [
    {
     "data": {
      "text/plain": [
       "(50, 50, 3)"
      ]
     },
     "execution_count": 8,
     "metadata": {},
     "output_type": "execute_result"
    }
   ],
   "source": [
    "test = cv2.imread('IDC_regular_ps50_idx5/13689/1/13689_idx5_x801_y1501_class1.png' ,cv2.IMREAD_COLOR)\n",
    "test.shape"
   ]
  },
  {
   "cell_type": "code",
   "execution_count": 9,
   "id": "a9bb55b3",
   "metadata": {},
   "outputs": [],
   "source": [
    "combined_data = np.concatenate((class0_array, class1_array))\n",
    "random.seed(42)\n",
    "random.shuffle(combined_data)"
   ]
  },
  {
   "cell_type": "code",
   "execution_count": 10,
   "id": "eab13212",
   "metadata": {},
   "outputs": [],
   "source": [
    "X = []\n",
    "y = []\n",
    "\n",
    "for features,label in combined_data:\n",
    "    X.append(features)\n",
    "    y.append(label)"
   ]
  },
  {
   "cell_type": "code",
   "execution_count": 11,
   "id": "0efdf4ee",
   "metadata": {},
   "outputs": [],
   "source": [
    "X = np.array(X).reshape(-1, img_size, img_size, 3)"
   ]
  },
  {
   "cell_type": "code",
   "execution_count": 12,
   "id": "cf7effcc",
   "metadata": {},
   "outputs": [
    {
     "data": {
      "text/plain": [
       "(277522, 50, 50, 3)"
      ]
     },
     "execution_count": 12,
     "metadata": {},
     "output_type": "execute_result"
    }
   ],
   "source": [
    "X.shape"
   ]
  },
  {
   "cell_type": "code",
   "execution_count": 13,
   "id": "82e86590",
   "metadata": {},
   "outputs": [
    {
     "name": "stdout",
     "output_type": "stream",
     "text": [
      "(208141, 50, 50, 3) (69381, 50, 50, 3) (208141, 2) (69381, 2)\n"
     ]
    }
   ],
   "source": [
    "X_train, X_test, y_train, y_test = train_test_split(X, y, test_size=0.25, random_state=42)\n",
    "y_train = to_categorical(y_train)\n",
    "y_test = to_categorical(y_test)\n",
    "print(X_train.shape, X_test.shape, y_train.shape, y_test.shape)"
   ]
  },
  {
   "cell_type": "code",
   "execution_count": 14,
   "id": "7c805bc5",
   "metadata": {},
   "outputs": [
    {
     "name": "stdout",
     "output_type": "stream",
     "text": [
      "<keras.src.layers.pooling.global_average_pooling2d.GlobalAveragePooling2D object at 0x0000028DB57DE0A0>\n",
      "<keras.src.layers.regularization.dropout.Dropout object at 0x0000028DB6153760>\n",
      "<keras.src.layers.core.dense.Dense object at 0x0000028DB613B9D0>\n",
      "<keras.src.layers.core.dense.Dense object at 0x0000028DB60C9580>\n",
      "<keras.src.layers.regularization.dropout.Dropout object at 0x0000028DB612CB80>\n",
      "<keras.src.layers.core.dense.Dense object at 0x0000028DB6162970>\n",
      "<keras.src.layers.core.dense.Dense object at 0x0000028DB618DFA0>\n"
     ]
    }
   ],
   "source": [
    "base_model = VGG16(weights='imagenet', include_top=False,\n",
    "                            input_shape=(img_size, img_size,3))\n",
    "\n",
    "# freeze extraction layers\n",
    "base_model.trainable = False\n",
    "\n",
    "# add custom top layers\n",
    "x = base_model.output\n",
    "x = GlobalAveragePooling2D()(x)\n",
    "x = Dropout(0.2)(x)\n",
    "x = Dense(4096,activation=\"relu\")(x)\n",
    "x = Dense(4096,activation=\"relu\")(x)\n",
    "x = Dropout(0.2)(x)\n",
    "x = Dense(2096,activation=\"relu\")(x)\n",
    "predictions = Dense(2, activation='sigmoid')(x)\n",
    "model = Model(inputs=base_model.input, outputs=predictions)\n",
    "\n",
    "# confirm unfrozen layers\n",
    "for layer in model.layers:\n",
    "    if layer.trainable==True:\n",
    "        print(layer)"
   ]
  },
  {
   "cell_type": "code",
   "execution_count": 15,
   "id": "e35b6966",
   "metadata": {},
   "outputs": [
    {
     "name": "stdout",
     "output_type": "stream",
     "text": [
      "Model: \"model\"\n",
      "_________________________________________________________________\n",
      " Layer (type)                Output Shape              Param #   \n",
      "=================================================================\n",
      " input_1 (InputLayer)        [(None, 50, 50, 3)]       0         \n",
      "                                                                 \n",
      " block1_conv1 (Conv2D)       (None, 50, 50, 64)        1792      \n",
      "                                                                 \n",
      " block1_conv2 (Conv2D)       (None, 50, 50, 64)        36928     \n",
      "                                                                 \n",
      " block1_pool (MaxPooling2D)  (None, 25, 25, 64)        0         \n",
      "                                                                 \n",
      " block2_conv1 (Conv2D)       (None, 25, 25, 128)       73856     \n",
      "                                                                 \n",
      " block2_conv2 (Conv2D)       (None, 25, 25, 128)       147584    \n",
      "                                                                 \n",
      " block2_pool (MaxPooling2D)  (None, 12, 12, 128)       0         \n",
      "                                                                 \n",
      " block3_conv1 (Conv2D)       (None, 12, 12, 256)       295168    \n",
      "                                                                 \n",
      " block3_conv2 (Conv2D)       (None, 12, 12, 256)       590080    \n",
      "                                                                 \n",
      " block3_conv3 (Conv2D)       (None, 12, 12, 256)       590080    \n",
      "                                                                 \n",
      " block3_pool (MaxPooling2D)  (None, 6, 6, 256)         0         \n",
      "                                                                 \n",
      " block4_conv1 (Conv2D)       (None, 6, 6, 512)         1180160   \n",
      "                                                                 \n",
      " block4_conv2 (Conv2D)       (None, 6, 6, 512)         2359808   \n",
      "                                                                 \n",
      " block4_conv3 (Conv2D)       (None, 6, 6, 512)         2359808   \n",
      "                                                                 \n",
      " block4_pool (MaxPooling2D)  (None, 3, 3, 512)         0         \n",
      "                                                                 \n",
      " block5_conv1 (Conv2D)       (None, 3, 3, 512)         2359808   \n",
      "                                                                 \n",
      " block5_conv2 (Conv2D)       (None, 3, 3, 512)         2359808   \n",
      "                                                                 \n",
      " block5_conv3 (Conv2D)       (None, 3, 3, 512)         2359808   \n",
      "                                                                 \n",
      " block5_pool (MaxPooling2D)  (None, 1, 1, 512)         0         \n",
      "                                                                 \n",
      " global_average_pooling2d (  (None, 512)               0         \n",
      " GlobalAveragePooling2D)                                         \n",
      "                                                                 \n",
      " dropout (Dropout)           (None, 512)               0         \n",
      "                                                                 \n",
      " dense (Dense)               (None, 4096)              2101248   \n",
      "                                                                 \n",
      " dense_1 (Dense)             (None, 4096)              16781312  \n",
      "                                                                 \n",
      " dropout_1 (Dropout)         (None, 4096)              0         \n",
      "                                                                 \n",
      " dense_2 (Dense)             (None, 2096)              8587312   \n",
      "                                                                 \n",
      " dense_3 (Dense)             (None, 2)                 4194      \n",
      "                                                                 \n",
      "=================================================================\n",
      "Total params: 42188754 (160.94 MB)\n",
      "Trainable params: 27474066 (104.81 MB)\n",
      "Non-trainable params: 14714688 (56.13 MB)\n",
      "_________________________________________________________________\n"
     ]
    }
   ],
   "source": [
    "# Model Summary\n",
    "\n",
    "model.summary()"
   ]
  },
  {
   "cell_type": "code",
   "execution_count": 16,
   "id": "b18860da",
   "metadata": {},
   "outputs": [],
   "source": [
    "callbacks = [EarlyStopping(monitor='val_loss', patience=5, verbose=1),\n",
    "                ModelCheckpoint('VGG16_model.hdf5',\n",
    "                                 save_best_only=True)]"
   ]
  },
  {
   "cell_type": "code",
   "execution_count": 17,
   "id": "2c6cfd6d",
   "metadata": {},
   "outputs": [],
   "source": [
    "opt = Adam(learning_rate=0.001)\n",
    "model.compile(\n",
    "  loss='categorical_crossentropy',\n",
    "  optimizer=opt,\n",
    "  metrics=['accuracy']\n",
    ")"
   ]
  },
  {
   "cell_type": "code",
   "execution_count": null,
   "id": "8449500a",
   "metadata": {},
   "outputs": [
    {
     "name": "stdout",
     "output_type": "stream",
     "text": [
      "Epoch 1/10\n",
      "6505/6505 [==============================] - 6683s 938ms/step - loss: 0.1840 - accuracy: 0.9549 - val_loss: 0.1390 - val_accuracy: 0.9538\n",
      "Epoch 2/10\n",
      "6505/6505 [==============================] - 6591s 1s/step - loss: 0.1590 - accuracy: 0.9552 - val_loss: 0.1524 - val_accuracy: 0.9549\n",
      "Epoch 3/10\n",
      "6505/6505 [==============================] - ETA: 0s - loss: 0.1544 - accuracy: 0.9556"
     ]
    }
   ],
   "source": [
    "VGG16_history=model.fit(X_train, \n",
    "                        y_train,\n",
    "                        validation_data=(X_test, y_test),\n",
    "                        verbose = 1,\n",
    "                        epochs = 10,\n",
    "                        callbacks=callbacks)"
   ]
  },
  {
   "cell_type": "code",
   "execution_count": null,
   "id": "63096a97",
   "metadata": {},
   "outputs": [],
   "source": [
    "from sklearn.metrics import accuracy_score, precision_score, recall_score, f1_score\n",
    "\n",
    "evaluation_results = model.evaluate(X_test, y_test)\n",
    "accuracy = evaluation_results[1]\n",
    "\n",
    "y_pred = model.predict(X_test)\n",
    "y_pred_classes = np.argmax(y_pred, axis=1)\n",
    "y_test_classes = np.argmax(y_test, axis=1)\n",
    "\n",
    "precision = precision_score(y_test_classes, y_pred_classes, average='weighted')\n",
    "recall = recall_score(y_test_classes, y_pred_classes, average='weighted')\n",
    "f1 = f1_score(y_test_classes, y_pred_classes, average='weighted')\n",
    "\n",
    "print(\"Accuracy:\", accuracy)\n",
    "print(\"Precision:\", precision)\n",
    "print(\"Recall:\", recall)\n",
    "print(\"F1 score:\", f1)"
   ]
  },
  {
   "cell_type": "code",
   "execution_count": null,
   "id": "b4607cde",
   "metadata": {},
   "outputs": [],
   "source": [
    "def f1_score(y_true, y_pred): #taken from old keras source code\n",
    "    true_positives = K.sum(K.round(K.clip(y_true * y_pred, 0, 1)))\n",
    "    possible_positives = K.sum(K.round(K.clip(y_true, 0, 1)))\n",
    "    predicted_positives = K.sum(K.round(K.clip(y_pred, 0, 1)))\n",
    "    precision = true_positives / (predicted_positives + K.epsilon())\n",
    "    recall = true_positives / (possible_positives + K.epsilon())\n",
    "    f1_val = 2*(precision*recall)/(precision+recall+K.epsilon())\n",
    "    return f1_val"
   ]
  },
  {
   "cell_type": "code",
   "execution_count": null,
   "id": "d6a524b1",
   "metadata": {},
   "outputs": [],
   "source": [
    "METRICS = [\n",
    "      tf.keras.metrics.BinaryAccuracy(name='accuracy'),\n",
    "      tf.keras.metrics.Precision(name='precision'),\n",
    "      tf.keras.metrics.Recall(name='recall'),  \n",
    "      tf.keras.metrics.AUC(name='auc'),\n",
    "        f1_score,\n",
    "]"
   ]
  },
  {
   "cell_type": "code",
   "execution_count": null,
   "id": "f8ff5e87",
   "metadata": {},
   "outputs": [],
   "source": [
    "#plot the accuracy graph\n",
    "plt.figure(figsize = (12,6))\n",
    "plt.subplot(2,1,1)\n",
    "plt.plot(VGG16_history.history['accuracy'], label=\"train_acc\")\n",
    "plt.plot(VGG16_history.history['val_accuracy'], label = \"test_acc\")\n",
    "plt.legend()\n",
    "plt.subplot(2,1,2)\n",
    "plt.plot(VGG16_history.history['loss'], label = \"train_loss\")\n",
    "plt.plot(VGG16_history.history['val_loss'], label = \"val_loss\")\n",
    "plt.legend()"
   ]
  },
  {
   "cell_type": "code",
   "execution_count": null,
   "id": "0b2f3ecf",
   "metadata": {},
   "outputs": [],
   "source": [
    "import matplotlib.pyplot as plt\n",
    "from matplotlib import gridspec\n",
    "\n",
    "# 训练准确率、验证准确率、训练损失和验证损失数据\n",
    "train_acc = [0.9552, 0.9552, 0.9559, 0.9558, 0.9555, 0.9557]\n",
    "val_acc = [0.9538, 0.9539, 0.9564, 0.9519, 0.9551, 0.9538]\n",
    "train_loss = [0.1742, 0.1645, 0.1513, 0.1654, 0.1576, 0.1708]\n",
    "val_loss = [0.1416, 0.1433, 0.1454, 0.1421, 0.1437, 0.1487]\n",
    "\n",
    "# 训练周期\n",
    "epochs = range(1, len(train_acc) + 1)\n",
    "\n",
    "# 创建画布和子图布局\n",
    "plt.figure(figsize=(12, 6))\n",
    "gs = gridspec.GridSpec(2, 1, height_ratios=[3, 2])  # 2行1列，上下高度比例3:2\n",
    "\n",
    "# 第一个子图：准确率\n",
    "plt.subplot(gs[0])\n",
    "plt.plot(epochs, train_acc, 'b', label='Train Accuracy')\n",
    "plt.plot(epochs, val_acc, 'orange', label='Validation Accuracy')\n",
    "plt.title('Training and Validation Accuracy')\n",
    "plt.xlabel('Epochs')\n",
    "plt.ylabel('Accuracy')\n",
    "plt.legend()\n",
    "\n",
    "# 第二个子图：损失\n",
    "plt.subplot(gs[1])\n",
    "plt.plot(epochs, train_loss, 'b', label='Train Loss')\n",
    "plt.plot(epochs, val_loss, 'orange', label='Validation Loss')\n",
    "plt.title('Training and Validation Loss')\n",
    "plt.xlabel('Epochs')\n",
    "plt.ylabel('Loss')\n",
    "plt.legend()\n",
    "\n",
    "plt.tight_layout()  # 调整子图布局\n",
    "plt.show()\n"
   ]
  },
  {
   "cell_type": "code",
   "execution_count": null,
   "id": "6f7e1690",
   "metadata": {},
   "outputs": [],
   "source": [
    "from sklearn.metrics import confusion_matrix\n",
    "import seaborn as sns\n",
    "\n",
    "Y_pred = model.predict(X_test)\n",
    "Y_pred_classes = np.argmax(Y_pred,axis = 1) \n",
    "Y_true = np.argmax(y_test,axis = 1) \n",
    "\n",
    "confusion_mtx = confusion_matrix(Y_true, Y_pred_classes) \n",
    "\n",
    "f,ax = plt.subplots(figsize=(8, 8))\n",
    "sns.heatmap(confusion_mtx, annot=True, linewidths=0.01,cmap=\"OrRd\",linecolor=\"black\", fmt= '.1f',ax=ax)\n",
    "plt.xlabel(\"Predicted Label\")\n",
    "plt.ylabel(\"True Label\")\n",
    "plt.title(\"Confusion Matrix\")\n",
    "plt.show()\n"
   ]
  },
  {
   "cell_type": "code",
   "execution_count": null,
   "id": "5a2dc911",
   "metadata": {},
   "outputs": [],
   "source": []
  }
 ],
 "metadata": {
  "kernelspec": {
   "display_name": "Python 3 (ipykernel)",
   "language": "python",
   "name": "python3"
  },
  "language_info": {
   "codemirror_mode": {
    "name": "ipython",
    "version": 3
   },
   "file_extension": ".py",
   "mimetype": "text/x-python",
   "name": "python",
   "nbconvert_exporter": "python",
   "pygments_lexer": "ipython3",
   "version": "3.9.12"
  }
 },
 "nbformat": 4,
 "nbformat_minor": 5
}
